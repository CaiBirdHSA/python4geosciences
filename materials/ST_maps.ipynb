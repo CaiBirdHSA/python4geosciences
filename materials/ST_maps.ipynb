{
 "cells": [
  {
   "cell_type": "markdown",
   "metadata": {},
   "source": [
    "# Maps"
   ]
  },
  {
   "cell_type": "markdown",
   "metadata": {},
   "source": [
    "## 1. Introduction\n",
    "\n",
    "Maps are a way to present information on a (roughly) spherical earth on a flat plane, like a page or a screen. Here are two examples of common map projections. The projection is only accurate in the region where the plane touches the sphere, and is less accurate as the distance between the plane and the sphere increases.\n",
    "\n",
    "#### Mercator\n",
    "![Mercator](https://upload.wikimedia.org/wikipedia/commons/thumb/6/62/Usgs_map_mercator.svg/413px-Usgs_map_mercator.svg.png)\n",
    "\n",
    "#### Lambert conformal conic\n",
    "![Lambert conformal conic](https://upload.wikimedia.org/wikipedia/commons/d/da/USGS_map_Albers_conic_tall.gif)\n",
    "\n",
    "You can read more about map projections from [_Map Projections – a Working Manual_](http://pubs.usgs.gov/pp/1395/report.pdf), the source of the images above, or, more entertainingly, from [XKCD](https://xkcd.com/977/).\n",
    "\n",
    "We'll use `cartopy` to plot on maps. Check out the [gallery](http://scitools.org.uk/cartopy/docs/latest/gallery.html) for inspiration.\n"
   ]
  },
  {
   "cell_type": "code",
   "execution_count": 1,
   "metadata": {},
   "outputs": [
    {
     "name": "stderr",
     "output_type": "stream",
     "text": [
      "/opt/miniconda3/lib/python3.6/importlib/_bootstrap.py:219: RuntimeWarning: numpy.dtype size changed, may indicate binary incompatibility. Expected 96, got 88\n",
      "  return f(*args, **kwds)\n"
     ]
    }
   ],
   "source": [
    "import numpy as np\n",
    "import matplotlib.pyplot as plt\n",
    "%matplotlib inline\n",
    "\n",
    "import cartopy\n",
    "import cartopy.crs as ccrs  # commonly used shorthand\n",
    "import cartopy.feature as cfeature\n"
   ]
  },
  {
   "cell_type": "markdown",
   "metadata": {},
   "source": [
    "Here we have the most basic projection: plate carrée, which is an [equirectangular projection](https://en.wikipedia.org/wiki/Equirectangular_projection), and is essentially equivalent to just plotting the longitude and latitude values without a projection. I will refer to longitude and latitude as \"geographic coordinates\".\n",
    "\n",
    "We can make an axes that is plotted in geographic coordinates (or, indeed, any projection we choose) by using the `projection` keyword argument to `fig.add_subplot()`. Here we also plot the coastline and add gridlines."
   ]
  },
  {
   "cell_type": "code",
   "execution_count": null,
   "metadata": {},
   "outputs": [],
   "source": [
    "fig = plt.figure(figsize=(10, 10))\n",
    "ax = fig.add_subplot(1, 1, 1, projection=ccrs.Robinson(central_longitude=-90))\n",
    "ax.coastlines(resolution='110m')  # coastline resolution options are '110m', '50m', '10m'\n",
    "ax.gridlines()"
   ]
  },
  {
   "cell_type": "code",
   "execution_count": null,
   "metadata": {},
   "outputs": [],
   "source": [
    "ccrs.LambertConformal?"
   ]
  },
  {
   "cell_type": "markdown",
   "metadata": {},
   "source": [
    "`cartopy` provides a number of projections. [Available projections](http://scitools.org.uk/cartopy/docs/latest/crs/projections.html) are:\n",
    "\n",
    "    PlateCarree\n",
    "    AlbersEqualArea\n",
    "    AzimuthalEquidistant\n",
    "    LambertConformal\n",
    "    LambertCylindrical\n",
    "    Mercator\n",
    "    Miller\n",
    "    Mollweide\n",
    "    Orthographic\n",
    "    Robinson\n",
    "    Sinusoidal\n",
    "    Stereographic\n",
    "    TransverseMercator\n",
    "    UTM\n",
    "    InterruptedGoodeHomolosine\n",
    "    RotatedPole\n",
    "    OSGB\n",
    "    EuroPP\n",
    "    Geostationary\n",
    "    Gnomonic\n",
    "    LambertAzimuthalEqualArea\n",
    "    NorthPolarStereo\n",
    "    OSNI\n",
    "    SouthPolarStereo  \n",
    "\n",
    "Lambert Conformal Conic is a useful projection in numerical modeling because it preserves right angles. Here we use the projection without any keyword specifications, but with the coastline plotted so that we have something to look at.\n",
    "\n",
    "The projection that we choose in the `axes` line with `projection=` is the projection that the plot is in. Data from any projection can be plotted on this map, but we will have to tell it which projection it is in."
   ]
  },
  {
   "cell_type": "code",
   "execution_count": null,
   "metadata": {},
   "outputs": [],
   "source": [
    "plt.figure()\n",
    "ax = plt.axes(projection=ccrs.LambertConformal())  ## The map is in the Lambert Conformal projection\n",
    "ax.coastlines(resolution='110m')\n",
    "ax.gridlines()"
   ]
  },
  {
   "cell_type": "markdown",
   "metadata": {},
   "source": [
    "Let's make a map of the Gulf of Mexico using the `LambertConformal` projection. Projections take in different keywords to specify properties. For this projection, we can specify the central longitude and latitude, which control the center of the projection. Our selection in the example is not far off from the default, so it looks similar to the previous plot."
   ]
  },
  {
   "cell_type": "code",
   "execution_count": null,
   "metadata": {},
   "outputs": [],
   "source": [
    "# the central_longitude and central_latitude parameters tell the projection where to be centered for the calculation\n",
    "# The map is in Lambert Conformal\n",
    "ax = plt.axes(projection=ccrs.LambertConformal(central_longitude=-85.0, central_latitude=25.0))\n",
    "gl = ax.gridlines(linewidth=0.2, color='gray', alpha=0.5, linestyle='-')\n",
    "ax.coastlines(resolution='110m')\n",
    "\n",
    "# we control what we actually see in the plot with this:\n",
    "# We can set the extent using latitude and longitude, but then we need to tell it the projection, which is\n",
    "# PlateCarree since that is equivalent\n",
    "# We are choosing the bounds of the map using geographic coordinates, \n",
    "# then identifying as being in PlateCarree\n",
    "ax.set_extent([-100, -70, 15, 35], ccrs.PlateCarree())\n",
    "\n",
    "# # add geographic information\n",
    "ax.add_feature(cartopy.feature.LAND, color='lightgreen')\n",
    "ax.add_feature(cartopy.feature.OCEAN)\n",
    "ax.coastlines(resolution='110m')  # looks better with resolution='10m'\n",
    "ax.add_feature(cartopy.feature.BORDERS, linestyle='-', lw=.5)\n",
    "ax.add_feature(cartopy.feature.RIVERS, edgecolor='b')"
   ]
  },
  {
   "cell_type": "markdown",
   "metadata": {},
   "source": [
    "The map is plotted in a projected coordinate system, with units in meters, but the package deals with the projection behind the scenes. We can see this by looking at the limits of the two axes, which don't look like longitude/latitude at all:"
   ]
  },
  {
   "cell_type": "code",
   "execution_count": null,
   "metadata": {},
   "outputs": [],
   "source": [
    "ax.get_xlim(), ax.get_ylim()"
   ]
  },
  {
   "cell_type": "markdown",
   "metadata": {},
   "source": [
    "This same call to a plot set up with the `PlateCarree` projection, which is in geographic coordinates (lon/lat) does give limits in longitude and latitude, because in that case we told the plot to be in those coordinates, but in this case we said to use a `LambertConformal`."
   ]
  },
  {
   "cell_type": "markdown",
   "metadata": {},
   "source": [
    "We can use whatever type of coordinates we want, including latitude and longitude, as long as we tell `cartopy` which type we are using. \n",
    "\n",
    "As you saw above, we set the limits of the plot not with xlim and ylim, but with `extent` and the appropriate projection object."
   ]
  },
  {
   "cell_type": "markdown",
   "metadata": {},
   "source": [
    "---\n",
    "### _Exercise_\n",
    "\n",
    "> Create a map of the Gulf of Mexico using a different projection. How does it compare to the map above?\n",
    "\n",
    "---"
   ]
  },
  {
   "cell_type": "code",
   "execution_count": null,
   "metadata": {},
   "outputs": [],
   "source": []
  },
  {
   "cell_type": "markdown",
   "metadata": {},
   "source": [
    "This is pretty good, but there are some limitations in this package currently. One is that we can't add labels to the lat/lon lines for the Lambert Conformal Conic projection. We can do this using Mercator, though:"
   ]
  },
  {
   "cell_type": "code",
   "execution_count": null,
   "metadata": {},
   "outputs": [],
   "source": [
    "plt.figure(figsize=(10, 6))\n",
    "\n",
    "# the central_longitude parameter tells the projection where to be centered for this axes\n",
    "ax = plt.axes(projection=ccrs.Mercator(central_longitude=-85.0))\n",
    "gl = ax.gridlines(linewidth=0.2, color='gray', alpha=0.5, linestyle='-', draw_labels=True)\n",
    "\n",
    "# we control what we actually see in the plot with this:\n",
    "# We can set the extent using latitude and longitude, but then we need to tell it the projection, which is\n",
    "# PlateCarree since that is equivalent\n",
    "ax.set_extent([-100, -70, 15, 35], ccrs.PlateCarree())\n",
    "\n",
    "# add geographic information\n",
    "ax.add_feature(cartopy.feature.LAND)\n",
    "ax.add_feature(cartopy.feature.OCEAN)\n",
    "ax.coastlines(resolution='110m')  # looks better with resolution='10m'\n",
    "ax.add_feature(cartopy.feature.BORDERS, linestyle='-', lw=.1)\n",
    "ax.add_feature(cartopy.feature.RIVERS)\n",
    "\n",
    "# Now we can add on lat/lon labels:\n",
    "# more info: http://scitools.org.uk/cartopy/docs/v0.13/matplotlib/gridliner.html\n",
    "from cartopy.mpl.gridliner import LONGITUDE_FORMATTER, LATITUDE_FORMATTER\n",
    "import matplotlib.ticker as mticker\n",
    "# the following two make the labels look like lat/lon format\n",
    "gl.xformatter = LONGITUDE_FORMATTER\n",
    "gl.yformatter = LATITUDE_FORMATTER\n",
    "gl.xlocator = mticker.FixedLocator([-105, -95, -85, -75, -65])  # control where the ticks are\n",
    "gl.xlabel_style = {'size': 15, 'color': 'gray'}  # control how the tick labels look\n",
    "gl.ylabel_style = {'color': 'red', 'weight': 'bold'}\n",
    "gl.xlabels_top = False  # turn off labels where you don't want them\n",
    "gl.ylabels_right = False"
   ]
  },
  {
   "cell_type": "markdown",
   "metadata": {},
   "source": [
    "When we want to add something to the plot, we just need to tell it what projection the information is given in using the `transform` keyword argument.\n",
    "\n",
    "If the information is in latitude/longitude – typical for the way people tend to think about information (instead of projected locations) – then we give the Plate Carree projection with the `transform` keyword argument to the plot call:\n",
    "> `transform=ccrs.PlateCarree()`\n",
    "\n",
    "For example, to plot some points with a particular projection, you can type:\n",
    "> `plt.plot(xpts, ypts, transform=ccrs.projection_that_xpts_and_ypts_are_given_in`)\n",
    "\n",
    "A nice thing about the `cartopy` package is that you can plot directly data from any projection — you just tell it the projection through the `transform` keyword argument when you add to the plot."
   ]
  },
  {
   "cell_type": "markdown",
   "metadata": {},
   "source": [
    "---\n",
    "### _Exercise_\n",
    "\n",
    "> The latitude and longitude of College Station are given below. Plot the location of College Station on the map above with a red dot.\n",
    "\n",
    "    lat_cll = 30.0 + 36.0/60.0 + 5.0/3600.0\n",
    "    lon_cll = -(96.0 + 18.0/60.0 + 52.0/3600.0)\n",
    "    \n",
    "_What happens if you put in the wrong projection or no projection?_\n",
    "\n",
    "---"
   ]
  },
  {
   "cell_type": "code",
   "execution_count": null,
   "metadata": {},
   "outputs": [],
   "source": []
  },
  {
   "cell_type": "markdown",
   "metadata": {},
   "source": [
    "---\n",
    "### _Exercise_\n",
    "\n",
    "> Data from any projection can be added to a map, the data must just be input with its projection using the `transform` keyword.\n",
    "\n",
    "> The x, y location of Austin, TX, is given below in the Mercator projection. Plot the location of Austin in Mercator coordinates on the map above with a blue 'x'.\n",
    "\n",
    "    x, y = -10880707.173023093, 3516376.324225941\n",
    "\n",
    "---"
   ]
  },
  {
   "cell_type": "code",
   "execution_count": null,
   "metadata": {},
   "outputs": [],
   "source": []
  },
  {
   "cell_type": "markdown",
   "metadata": {},
   "source": [
    "## Point conversion\n",
    "\n",
    "While `cartopy` removes the need to convert points on your own between projections (instead doing it behind the scenes), you can always convert between projections if you want using the following. Or, if you want to transform more than one point, use `projection.transform_points(projection, x, y)`."
   ]
  },
  {
   "cell_type": "code",
   "execution_count": null,
   "metadata": {},
   "outputs": [],
   "source": [
    "projection = ccrs.Mercator()\n",
    "\n",
    "x, y = projection.transform_point(-93.0-45.0/60.0, 27.0+55.0/60.0, ccrs.PlateCarree())\n",
    "print(x, y)"
   ]
  },
  {
   "cell_type": "markdown",
   "metadata": {},
   "source": [
    "---\n",
    "### _Exercise_\n",
    "\n",
    "> Convert the Mercator coordinates given for Austin to latitude and longitude and confirm that they are correct.\n",
    "\n",
    "---"
   ]
  },
  {
   "cell_type": "code",
   "execution_count": null,
   "metadata": {},
   "outputs": [],
   "source": []
  },
  {
   "cell_type": "markdown",
   "metadata": {},
   "source": [
    "## Other features you can add\n",
    "\n",
    "The code we used earlier, like:\n",
    "\n",
    "    ax.add_feature(cartopy.feature.LAND)\n",
    "\n",
    "was a convenience function wrapping more complex and capable code options. Here we explore a little more the capabilities. Note that this requires downloading data which you will see a warning about the first time you run the code.\n",
    "\n",
    "We can set up the ability to plot with high resolution land data:"
   ]
  },
  {
   "cell_type": "code",
   "execution_count": 2,
   "metadata": {},
   "outputs": [],
   "source": [
    "# this is another way to do `ax.add_feature(cartopy.feature.LAND)` but to have more control over it\n",
    "# 50m: moderate resolution data\n",
    "# set up for plotting land\n",
    "land_50m = cfeature.NaturalEarthFeature('physical', 'land', '50m',\n",
    "                                        edgecolor='face', facecolor=cfeature.COLORS['land'])\n",
    "# set up for plotting water at higher resolution\n",
    "ocean_50m = cfeature.NaturalEarthFeature('physical', 'ocean', '50m',\n",
    "                                         edgecolor='face', facecolor=cfeature.COLORS['water'])"
   ]
  },
  {
   "cell_type": "markdown",
   "metadata": {},
   "source": [
    "There are also some built-in colors, but you can use any matplotlib color available to color the land or water."
   ]
  },
  {
   "cell_type": "code",
   "execution_count": 3,
   "metadata": {},
   "outputs": [
    {
     "data": {
      "text/plain": [
       "['land', 'land_alt1', 'water']"
      ]
     },
     "execution_count": 3,
     "metadata": {},
     "output_type": "execute_result"
    }
   ],
   "source": [
    "sorted(cfeature.COLORS.keys())"
   ]
  },
  {
   "cell_type": "markdown",
   "metadata": {},
   "source": [
    "Using higher resolution can be pretty significantly different.\n",
    "\n",
    "Here we will prepare the higher resolution land and ocean information for the highest resolution available, then use it in the plot."
   ]
  },
  {
   "cell_type": "code",
   "execution_count": 4,
   "metadata": {},
   "outputs": [],
   "source": [
    "land_10m = cfeature.NaturalEarthFeature('physical', 'land', '10m',\n",
    "                                        edgecolor='face',\n",
    "                                        facecolor=cfeature.COLORS['land'])\n",
    "ocean_10m = cfeature.NaturalEarthFeature('physical', 'ocean', '10m',\n",
    "                                        edgecolor='face',\n",
    "                                        facecolor=cfeature.COLORS['water'])"
   ]
  },
  {
   "cell_type": "code",
   "execution_count": null,
   "metadata": {},
   "outputs": [
    {
     "data": {
      "text/plain": [
       "<cartopy.mpl.feature_artist.FeatureArtist at 0x7f725f270128>"
      ]
     },
     "execution_count": 5,
     "metadata": {},
     "output_type": "execute_result"
    }
   ],
   "source": [
    "projection=ccrs.LambertConformal(central_longitude=-95.0, central_latitude=29.0)\n",
    "\n",
    "# Galveston Bay\n",
    "fig = plt.figure(figsize=(15, 15))\n",
    "\n",
    "# lower resolution\n",
    "ax1 = fig.add_subplot(1,2,1, projection=projection)\n",
    "ax1.set_extent([-96, -94, 28.5, 30], ccrs.PlateCarree())\n",
    "ax1.add_feature(cartopy.feature.LAND)\n",
    "ax1.add_feature(cartopy.feature.OCEAN)\n",
    "\n",
    "\n",
    "# now higher resolution\n",
    "ax2 = fig.add_subplot(1,2,2, projection=projection)\n",
    "ax2.set_extent([-96, -94, 28.5, 30], ccrs.PlateCarree())\n",
    "ax2.add_feature(ocean_10m)\n",
    "ax2.add_feature(land_10m)"
   ]
  },
  {
   "cell_type": "markdown",
   "metadata": {},
   "source": [
    "Here is a list (with reference names in some cases appended) of the [many features](http://www.naturalearthdata.com/features/) that are available through Natural Earth:\n",
    "\n",
    "*(10, 50, 110 for high, medium, low resolution)*\n",
    "\n",
    "**Physical Vector Data Themes:**\n",
    "\n",
    "(`physical`)\n",
    "\n",
    "* Coastline (10, 50, 110): `coastline`\n",
    "* Land (10, 50, 110): `land`\n",
    "* Ocean (10, 50, 110): `ocean`\n",
    "* Minor Islands (10): `minor_islands`, `minor_islands_coastline`\n",
    "* Reefs (10): `reefs`\n",
    "* Physical region features (10): `geography_regions_polys`, `geography_regions_points`, `geography_regions_elevation_points`, `geography_marine_polys`\n",
    "* Rivers and Lake Centerlines (10, 50, 110): `rivers_lake_centerlines`\n",
    "* Lakes (10, 50, 110): `lakes`\n",
    "* Glaciated areas (10, 50, 110): `glaciated_areas`\n",
    "* Antarctic ice shelves (10, 50): `antarctic_ice_shelves_polys`, `antarctic_ice_shelves_lines`\n",
    "* Bathymetry (10): `bathymetry_all` or choose which depth(s)\n",
    "* Geographic lines (10, 50): `geographic_lines`\n",
    "* Graticules (10, 50, 110): (grid lines) `graticules_all` or choose degree interval\n",
    "\n",
    "\n",
    "**Raster Data Themes:**\n",
    "\n",
    "(`raster`: land coloring)\n",
    "\n",
    "* Cross Blended Hypsometric Tints (10, 50)\n",
    "* Natural Earth 1 (10, 50)\n",
    "* Natural Earth 2 (10, 50)\n",
    "* Ocean Bottom (10, 50)\n",
    "* Bathymetry (50)\n",
    "* Shaded Relief (10, 50)\n",
    "* Gray Earth (10, 50)\n",
    "* Manual Shaded Relief (10, 50)\n",
    "\n",
    "\n",
    "**Cultural Vector Data Themes:**\n",
    "\n",
    "(`cultural`)\n",
    "\n",
    "* Countries (10, 50, 110): `admin_0_countries`, `admin_0_countries_lakes`, `admin_0_boundary_lines`\n",
    "* Disputed areas and breakaway regions (10, 50)\n",
    "* First order admin (provinces, departments, states, etc.) (10, 50): e.g. `admin_1_states_provinces_lines`\n",
    "* Populated places (10, 50, 110)\n",
    "* Urban polygons (10, 50)\n",
    "* Parks and protected areas (10): `parks_and_protected_lands`\n",
    "* Pacific nation groupings (10, 50, 110)\n",
    "* Water boundary indicators (10)"
   ]
  },
  {
   "cell_type": "markdown",
   "metadata": {},
   "source": [
    "Here is an example showing state boundaries:"
   ]
  },
  {
   "cell_type": "code",
   "execution_count": null,
   "metadata": {},
   "outputs": [],
   "source": [
    "projection=ccrs.PlateCarree()\n",
    "fig = plt.figure()\n",
    "ax = fig.add_subplot(111, projection=projection)\n",
    "ax.set_extent([-125, -70, 24, 50], ccrs.PlateCarree())\n",
    "ax.add_feature(cartopy.feature.LAND)\n",
    "ax.add_feature(cartopy.feature.OCEAN)\n",
    "states = cfeature.NaturalEarthFeature(category='cultural', scale='50m', facecolor='none',\n",
    "                             name='admin_1_states_provinces_shp')\n",
    "ax.add_feature(states, edgecolor='gray')\n"
   ]
  }
 ],
 "metadata": {
  "anaconda-cloud": {},
  "kernelspec": {
   "display_name": "Python 3",
   "language": "python",
   "name": "python3"
  },
  "language_info": {
   "codemirror_mode": {
    "name": "ipython",
    "version": 3
   },
   "file_extension": ".py",
   "mimetype": "text/x-python",
   "name": "python",
   "nbconvert_exporter": "python",
   "pygments_lexer": "ipython3",
   "version": "3.6.5"
  }
 },
 "nbformat": 4,
 "nbformat_minor": 1
}
